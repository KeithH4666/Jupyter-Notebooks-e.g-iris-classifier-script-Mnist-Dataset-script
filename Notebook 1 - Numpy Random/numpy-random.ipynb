{
 "cells": [
  {
   "cell_type": "markdown",
   "metadata": {},
   "source": [
    "# Generating Random Numbers With Numpy"
   ]
  },
  {
   "cell_type": "markdown",
   "metadata": {},
   "source": [
    "![Numpy](https://upload.wikimedia.org/wikipedia/commons/thumb/1/1a/NumPy_logo.svg/1200px-NumPy_logo.svg.png)"
   ]
  },
  {
   "cell_type": "markdown",
   "metadata": {},
   "source": [
    "NumPy is a library for the Python programming language, adding support for large, multi-dimensional arrays and matrices, along with a large collection of high-level mathematical functions to operate on these arrays.\n",
    "Source: Wikipedia.com"
   ]
  },
  {
   "cell_type": "markdown",
   "metadata": {},
   "source": [
    "## Getting Started"
   ]
  },
  {
   "cell_type": "code",
   "execution_count": 1,
   "metadata": {},
   "outputs": [],
   "source": [
    "import numpy as np "
   ]
  },
  {
   "cell_type": "markdown",
   "metadata": {},
   "source": [
    "Now that we have imported numpy we can reference it as np."
   ]
  },
  {
   "cell_type": "markdown",
   "metadata": {},
   "source": [
    "## The N-dimensional array (ndarray)\n",
    "\n",
    "We will generate an ndarry using the np.arange method.\n",
    "\n",
    "The paramaters for this function are : np.arange([start],[stop],[steps],[type])"
   ]
  },
  {
   "cell_type": "code",
   "execution_count": 2,
   "metadata": {
    "scrolled": true
   },
   "outputs": [
    {
     "name": "stdout",
     "output_type": "stream",
     "text": [
      "[0 1 2 3 4 5 6 7 8 9]\n"
     ]
    }
   ],
   "source": [
    "x = np.arange(10)\n",
    "print(x)"
   ]
  },
  {
   "cell_type": "markdown",
   "metadata": {},
   "source": [
    "As seen above this creates an array with 10 elements."
   ]
  },
  {
   "cell_type": "code",
   "execution_count": 3,
   "metadata": {},
   "outputs": [
    {
     "name": "stdout",
     "output_type": "stream",
     "text": [
      "[10 11 12 13 14 15 16 17 18 19 20]\n"
     ]
    }
   ],
   "source": [
    "x = np.arange(10,21)\n",
    "print(x)\n"
   ]
  },
  {
   "cell_type": "markdown",
   "metadata": {},
   "source": [
    "This is another way of creating an array with 10 elements, however we are now giving it a start number and a stop number which is not included."
   ]
  },
  {
   "cell_type": "code",
   "execution_count": 4,
   "metadata": {},
   "outputs": [
    {
     "name": "stdout",
     "output_type": "stream",
     "text": [
      "[10. 12. 14. 16. 18. 20.]\n"
     ]
    }
   ],
   "source": [
    "x = np.arange(10,21,2,dtype =np.float64)\n",
    "print(x)\n"
   ]
  },
  {
   "cell_type": "markdown",
   "metadata": {},
   "source": [
    "Here we are adding the steps parameter which makes or elements go up my steps of two, meaning the odd numbers in this case are not included in our array. We are also specifying what type of variables the elements are."
   ]
  },
  {
   "cell_type": "code",
   "execution_count": 5,
   "metadata": {},
   "outputs": [
    {
     "name": "stdout",
     "output_type": "stream",
     "text": [
      "[10. 12. 14. 16. 18.]\n"
     ]
    }
   ],
   "source": [
    "y = x[0:5]\n",
    "print(y)"
   ]
  },
  {
   "cell_type": "markdown",
   "metadata": {},
   "source": [
    "We can use slicing to create views of our array, here we simply view the 0 - 5 but not including the 5th element and copy it to another array called y."
   ]
  },
  {
   "cell_type": "markdown",
   "metadata": {},
   "source": [
    "x = np.arange(15).reshape(3,5)\n",
    "print(x)"
   ]
  },
  {
   "cell_type": "markdown",
   "metadata": {},
   "source": [
    "We can use the reshape function to turn our array into a 2-D/3-D array, here for example we create an array with 15 elements with 3 rows of 5."
   ]
  },
  {
   "cell_type": "markdown",
   "metadata": {},
   "source": [
    "## Mathematical functions"
   ]
  },
  {
   "cell_type": "markdown",
   "metadata": {},
   "source": [
    "Numpy has a wide range of mathematical functions which allow us to easily preform operations on arrays and numbers. I will go through some funtions which I find very useful and use day to day.\n",
    "\n"
   ]
  },
  {
   "cell_type": "code",
   "execution_count": 6,
   "metadata": {},
   "outputs": [
    {
     "name": "stdout",
     "output_type": "stream",
     "text": [
      "Add: [[ 6 11]\n",
      " [ 7 13]]\n",
      "\n",
      "Subtract: [[-4 -5]\n",
      " [-1 -5]]\n",
      "\n",
      "Multiply: [[ 5 24]\n",
      " [12 36]]\n",
      "\n",
      "Divide: [[0.2        0.375     ]\n",
      " [0.75       0.44444444]]\n",
      "\n",
      "Square Root: [[2.23606798 2.82842712]\n",
      " [2.         3.        ]]\n"
     ]
    }
   ],
   "source": [
    "x = np.array([[1,3],[3,4]])\n",
    "y = np.array([[5,8],[4,9]])\n",
    "\n",
    "# add function\n",
    "print(\"Add:\" , np.add(x,y))\n",
    "print()\n",
    "\n",
    "#subtract function\n",
    "print(\"Subtract:\" , np.subtract(x,y))\n",
    "print()\n",
    "\n",
    "#multiply fuction\n",
    "print(\"Multiply:\" , np.multiply(x,y))\n",
    "print()\n",
    "\n",
    "#divide function\n",
    "print(\"Divide:\" , np.divide(x,y))\n",
    "print()\n",
    "\n",
    "#Square Root function\n",
    "print(\"Square Root:\" , np.sqrt(y))"
   ]
  },
  {
   "cell_type": "markdown",
   "metadata": {},
   "source": [
    "Here we simply greated two 2-D arrays and preformed simple arithmetic functions on them."
   ]
  },
  {
   "cell_type": "markdown",
   "metadata": {},
   "source": [
    "### Numpy has a wide range of functions for preforming computations on arrays\n",
    "\n",
    "One of the most useful in my opinion is sum."
   ]
  },
  {
   "cell_type": "code",
   "execution_count": 7,
   "metadata": {},
   "outputs": [
    {
     "name": "stdout",
     "output_type": "stream",
     "text": [
      "50\n"
     ]
    }
   ],
   "source": [
    "x = np.array([[5,10],[15,20]])\n",
    "\n",
    "print(np.sum(x))"
   ]
  },
  {
   "cell_type": "markdown",
   "metadata": {},
   "source": [
    "We can also use this function to sum just the rows or columns:"
   ]
  },
  {
   "cell_type": "code",
   "execution_count": 8,
   "metadata": {},
   "outputs": [
    {
     "name": "stdout",
     "output_type": "stream",
     "text": [
      "[20 30]\n"
     ]
    }
   ],
   "source": [
    "print(np.sum(x,axis=0)) # This calculates the columns"
   ]
  },
  {
   "cell_type": "code",
   "execution_count": 9,
   "metadata": {},
   "outputs": [
    {
     "name": "stdout",
     "output_type": "stream",
     "text": [
      "[15 35]\n"
     ]
    }
   ],
   "source": [
    "print(np.sum(x,axis=1)) # This calculates the rows"
   ]
  },
  {
   "cell_type": "markdown",
   "metadata": {},
   "source": [
    "## Numpy Random\n",
    "Numpy random allows us to get random values for our needs, e.g filling an array."
   ]
  },
  {
   "cell_type": "markdown",
   "metadata": {},
   "source": [
    "Here we can create a fixed size array with random numbers from 0-1."
   ]
  },
  {
   "cell_type": "code",
   "execution_count": 10,
   "metadata": {},
   "outputs": [
    {
     "name": "stdout",
     "output_type": "stream",
     "text": [
      "[[0.64859298 0.93566782 0.05620265]\n",
      " [0.70561497 0.4546464  0.962091  ]]\n"
     ]
    }
   ],
   "source": [
    "x = np.random.rand(2,3)\n",
    "print(x)"
   ]
  },
  {
   "cell_type": "markdown",
   "metadata": {},
   "source": [
    "We can also create random arrays like this:"
   ]
  },
  {
   "cell_type": "code",
   "execution_count": 11,
   "metadata": {},
   "outputs": [
    {
     "name": "stdout",
     "output_type": "stream",
     "text": [
      "[1 0 1 0 4]\n"
     ]
    }
   ],
   "source": [
    "x = np.random.randint(5, size=5)\n",
    "print(x)"
   ]
  },
  {
   "cell_type": "markdown",
   "metadata": {},
   "source": [
    "This creates an array of size 5 with random numbers that can go no higher than 5."
   ]
  },
  {
   "cell_type": "code",
   "execution_count": 12,
   "metadata": {},
   "outputs": [
    {
     "name": "stdout",
     "output_type": "stream",
     "text": [
      "[8.00657499 5.86566874 5.6906128  5.17634824 9.00548928 6.21310202\n",
      " 5.09462058 5.37773265 8.45891046 8.69965244]\n"
     ]
    }
   ],
   "source": [
    "x = np.random.uniform(5,10, size=10)\n",
    "print(x)"
   ]
  },
  {
   "cell_type": "markdown",
   "metadata": {},
   "source": [
    "Here the samples are uniformly distributed between 5 and 10 but not including 10. \n",
    "\n",
    "We can also manipulate it to create multi-dimensinal arrays like so:"
   ]
  },
  {
   "cell_type": "code",
   "execution_count": 13,
   "metadata": {},
   "outputs": [
    {
     "name": "stdout",
     "output_type": "stream",
     "text": [
      "[[8.50050718 7.03018338 5.69181878 5.88104589 9.73993496 6.59508973\n",
      "  5.7355372  7.75046031 6.18266889 6.02027149]\n",
      " [7.10091895 5.84609135 8.00877036 9.78462735 8.71383248 8.05334081\n",
      "  6.55054603 5.19011595 7.31432472 8.01867056]]\n"
     ]
    }
   ],
   "source": [
    "x = np.random.uniform(5,10, size=(2,10))\n",
    "print(x)"
   ]
  },
  {
   "cell_type": "markdown",
   "metadata": {},
   "source": [
    "## Numpy with Matplotlib\n",
    "\n",
    "matplotlib is a plotting library for the Python programming language and its numerical mathematics extension NumPy."
   ]
  },
  {
   "cell_type": "code",
   "execution_count": 14,
   "metadata": {},
   "outputs": [],
   "source": [
    "import matplotlib.pyplot as plt"
   ]
  },
  {
   "cell_type": "markdown",
   "metadata": {},
   "source": [
    "Now we can reference our plotting library as plt. "
   ]
  },
  {
   "cell_type": "markdown",
   "metadata": {},
   "source": [
    "## Histogram Example"
   ]
  },
  {
   "cell_type": "code",
   "execution_count": 15,
   "metadata": {},
   "outputs": [
    {
     "name": "stderr",
     "output_type": "stream",
     "text": [
      "C:\\Users\\dell\\Anaconda3\\lib\\site-packages\\ipykernel_launcher.py:2: DeprecationWarning: This function is deprecated. Please call randint(1, 6 + 1) instead\n",
      "  \n",
      "C:\\Users\\dell\\Anaconda3\\lib\\site-packages\\ipykernel_launcher.py:5: DeprecationWarning: This function is deprecated. Please call randint(1, 6 + 1) instead\n",
      "  \"\"\"\n",
      "C:\\Users\\dell\\Anaconda3\\lib\\site-packages\\matplotlib\\axes\\_axes.py:6462: UserWarning: The 'normed' kwarg is deprecated, and has been replaced by the 'density' kwarg.\n",
      "  warnings.warn(\"The 'normed' kwarg is deprecated, and has been \"\n"
     ]
    },
    {
     "data": {
      "image/png": "[encoded data removed]",
      "text/plain": [
       "<Figure size 432x288 with 1 Axes>"
      ]
     },
     "metadata": {},
     "output_type": "display_data"
    }
   ],
   "source": [
    "#dice one\n",
    "diceOne = np.random.random_integers(1, 6, 500) \n",
    "\n",
    "#dice two\n",
    "diceTwo = np.random.random_integers(1, 6, 500)\n",
    "\n",
    "#merge both arrays\n",
    "diceSums = diceOne + diceTwo\n",
    "\n",
    "\n",
    "#plot histogram\n",
    "plt.hist(diceSums,11,normed=True,facecolor='green')\n",
    "\n",
    "#add labels\n",
    "plt.xlabel('Amount Rolled')\n",
    "plt.ylabel('Frequency')\n",
    "plt.title('Distribution of numbers rolled by two die 500 times')\n",
    "\n",
    "#show plot\n",
    "plt.show()\n",
    "\n"
   ]
  },
  {
   "cell_type": "markdown",
   "metadata": {},
   "source": [
    "As we can see from our histogram above we are more likely to see numbers in the middle because there is more combinations of those numbers."
   ]
  },
  {
   "cell_type": "markdown",
   "metadata": {},
   "source": [
    "## Bar Chart Example"
   ]
  },
  {
   "cell_type": "code",
   "execution_count": 16,
   "metadata": {},
   "outputs": [
    {
     "data": {
      "image/png": "[encoded data removed]",
      "text/plain": [
       "<Figure size 432x288 with 1 Axes>"
      ]
     },
     "metadata": {},
     "output_type": "display_data"
    }
   ],
   "source": [
    "#Name fruits\n",
    "objects = ('Apples', 'Oranges', 'Grapes', 'Pairs')\n",
    "\n",
    "#X-axis values\n",
    "y_pos = np.arange(len(objects))\n",
    "\n",
    "#randomly generated values for y-axis\n",
    "performance = np.random.randint(8, size=4)\n",
    " \n",
    "#Plot \n",
    "plt.bar(y_pos, performance, align='center', alpha=0.5)\n",
    "\n",
    "#Labels\n",
    "plt.xticks(y_pos, objects)\n",
    "plt.ylabel('Popularity')\n",
    "plt.title('Most Poular fruits')\n",
    "\n",
    "#Show graph\n",
    "plt.show()"
   ]
  },
  {
   "cell_type": "markdown",
   "metadata": {},
   "source": [
    "Simple bar chart which shows the popularity of fruits which were randomly generated values."
   ]
  },
  {
   "cell_type": "markdown",
   "metadata": {},
   "source": [
    "## Pie Chart"
   ]
  },
  {
   "cell_type": "code",
   "execution_count": 17,
   "metadata": {},
   "outputs": [
    {
     "data": {
      "image/png": "[encoded data removed]",
      "text/plain": [
       "<Figure size 432x288 with 1 Axes>"
      ]
     },
     "metadata": {},
     "output_type": "display_data"
    }
   ],
   "source": [
    "# labels\n",
    "labels = 'Apples', 'Oranges', 'Grapes', 'Pairs'\n",
    "\n",
    "# Random sizes\n",
    "sizes = np.random.randint(10, size=4)\n",
    "\n",
    "# Explode first and second slice\n",
    "explode = (0.1, 0.1, 0, 0)  \n",
    "\n",
    "# Plot Chart\n",
    "fig1, ax1 = plt.subplots()\n",
    "ax1.pie(sizes, explode=explode, labels=labels, autopct='%1.1f%%',shadow=True, startangle=90)\n",
    "\n",
    "# Makes sure circle is drawn\n",
    "ax1.axis('equal') \n",
    "\n",
    "# Show plot\n",
    "plt.show()"
   ]
  },
  {
   "cell_type": "markdown",
   "metadata": {},
   "source": [
    "Simple pie chart which shows the popularity of fruits which were randomly generated values."
   ]
  },
  {
   "cell_type": "code",
   "execution_count": null,
   "metadata": {},
   "outputs": [],
   "source": []
  }
 ],
 "metadata": {
  "kernelspec": {
   "display_name": "Python 3",
   "language": "python",
   "name": "python3"
  },
  "language_info": {
   "codemirror_mode": {
    "name": "ipython",
    "version": 3
   },
   "file_extension": ".py",
   "mimetype": "text/x-python",
   "name": "python",
   "nbconvert_exporter": "python",
   "pygments_lexer": "ipython3",
   "version": "3.6.5"
  }
 },
 "nbformat": 4,
 "nbformat_minor": 2
}
