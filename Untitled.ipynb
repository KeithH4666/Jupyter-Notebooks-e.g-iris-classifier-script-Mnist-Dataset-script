{
 "cells": [
  {
   "cell_type": "markdown",
   "metadata": {},
   "source": [
    "# Explaining My Script"
   ]
  },
  {
   "cell_type": "markdown",
   "metadata": {},
   "source": [
    "The first thing I did was import the packages needed for my script:"
   ]
  },
  {
   "cell_type": "code",
   "execution_count": 1,
   "metadata": {},
   "outputs": [
    {
     "name": "stderr",
     "output_type": "stream",
     "text": [
      "C:\\Users\\dell\\Anaconda3\\lib\\site-packages\\h5py\\__init__.py:36: FutureWarning: Conversion of the second argument of issubdtype from `float` to `np.floating` is deprecated. In future, it will be treated as `np.float64 == np.dtype(float).type`.\n",
      "  from ._conv import register_converters as _register_converters\n",
      "Using TensorFlow backend.\n"
     ]
    }
   ],
   "source": [
    "import keras as kr\n",
    "import tensorflow as tf\n",
    "from keras.models import Sequential\n",
    "from keras.datasets import mnist\n",
    "from keras.models import Sequential, load_model\n",
    "from keras.layers.core import Dense, Dropout, Activation\n",
    "from keras.utils import np_utils\n",
    "from keras.models import load_model\n",
    "import sklearn.preprocessing as pre\n",
    "import sys\n",
    "import gzip\n",
    "import numpy as np\n",
    "import cv2\n",
    "import matplotlib.pyplot as plt\n",
    "import PIL\n",
    "from PIL import Image, ImageDraw, ImageTk\n",
    "import tkinter as tk"
   ]
  },
  {
   "cell_type": "markdown",
   "metadata": {},
   "source": [
    "Next I added a function which builds my neural network or model:"
   ]
  },
  {
   "cell_type": "code",
   "execution_count": 2,
   "metadata": {},
   "outputs": [],
   "source": [
    "def buildModel():\n",
    "\n",
    "    model = kr.models.Sequential()\n",
    "\n",
    "    ## https://machinelearningmastery.com/handwritten-digit-recognition-using-convolutional-neural-networks-python-keras/\n",
    "    ## Used this reference for dropout values as I was unsure why this was used \n",
    "    model.add(Dense(512, input_shape=(784,)))\n",
    "    model.add(Activation('relu'))                            \n",
    "    model.add(Dropout(0.2))\n",
    "\n",
    "    model.add(Dense(512))\n",
    "    model.add(Activation('relu'))\n",
    "    model.add(Dropout(0.2))\n",
    "\n",
    "    model.add(Dense(10))\n",
    "    model.add(Activation('softmax'))\n",
    "    \n",
    "    model.compile(loss='categorical_crossentropy', optimizer='adam', metrics=['accuracy'])\n",
    "    \n",
    "    ## Opens our train images and labels to train our model\n",
    "    with gzip.open('dataset/train-images-idx3-ubyte.gz', 'rb') as f:\n",
    "        train_img = f.read()\n",
    "\n",
    "    with gzip.open('dataset/train-labels-idx1-ubyte.gz', 'rb') as f:\n",
    "        train_lbl = f.read()\n",
    "    \n",
    "    ## Convert both sets of images and labels to arrays of and divide the images by 255 to get the bits between 0-1\n",
    "    train_img =  np.array(list(train_img[16:])).reshape(60000, 28, 28).astype(np.uint8)/ 255.0\n",
    "    train_lbl =  np.array(list(train_lbl[ 8:])).astype(np.uint8)\n",
    "    \n",
    "    ## Convert our labels to binary numbers , e.g 1 = 100000000 , 2 = 010000000\n",
    "    encoder = pre.LabelBinarizer()\n",
    "    encoder.fit(train_lbl)\n",
    "    outputs = encoder.transform(train_lbl)\n",
    "    \n",
    "    ## Reshape our array to fit model input\n",
    "    inputs = train_img.reshape(60000, 784)\n",
    "\n",
    "\n",
    "    ## Train the model with our inputs(Images) and outputs (Labels)\n",
    "    model.fit(inputs, outputs, epochs=5, batch_size=128)\n",
    "    \n",
    "    ## Save our model as Mnist for loading it in later instead of building our model every single time\n",
    "    model.save('Mnist')\n",
    "    \n",
    "    print(str(ModelCreated))"
   ]
  },
  {
   "cell_type": "markdown",
   "metadata": {},
   "source": [
    "Next I had to add a function which makes our image ready for input to our model:"
   ]
  },
  {
   "cell_type": "code",
   "execution_count": 3,
   "metadata": {},
   "outputs": [],
   "source": [
    "def convertImage(imagefile):\n",
    "\n",
    "    ## Really good reference for this : http://www.appstate.edu/~marshallst/GLY3455/lectures/9_Image_Processing.pdf\n",
    "\n",
    "    ## Convert to greyscale\n",
    "    im = Image.open(imagefile).convert('L')\n",
    "\n",
    "    ## Make sure image is resized\n",
    "    im= im.resize((28, 28), Image.BICUBIC)\n",
    "\n",
    "    ## Convert to list\n",
    "    im = list(im.getdata())\n",
    "\n",
    "    # Currently everything is in bytes 0 - 255 , we want to make this 0-1 \n",
    "    im = [(255 - x) * 1.0 / 255.0 for x in im]\n",
    "    \n",
    "    ## need to reshape for our model, expects an array of length 1-D array of size 784\n",
    "    im =  np.array(list(im)).reshape(1,784)\n",
    "\n",
    "    print(\"Image successfully converted! Sending To model\")\n",
    "\n",
    "    ## Send the ready array to our build model function\n",
    "    CompareImage(im)"
   ]
  },
  {
   "cell_type": "code",
   "execution_count": null,
   "metadata": {},
   "outputs": [],
   "source": []
  }
 ],
 "metadata": {
  "kernelspec": {
   "display_name": "Python 3",
   "language": "python",
   "name": "python3"
  },
  "language_info": {
   "codemirror_mode": {
    "name": "ipython",
    "version": 3
   },
   "file_extension": ".py",
   "mimetype": "text/x-python",
   "name": "python",
   "nbconvert_exporter": "python",
   "pygments_lexer": "ipython3",
   "version": "3.6.5"
  }
 },
 "nbformat": 4,
 "nbformat_minor": 2
}
