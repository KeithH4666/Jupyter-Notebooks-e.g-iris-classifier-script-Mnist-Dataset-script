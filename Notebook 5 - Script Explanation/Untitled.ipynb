{
 "cells": [
  {
   "cell_type": "markdown",
   "metadata": {},
   "source": [
    "# Explaining My Script"
   ]
  },
  {
   "cell_type": "markdown",
   "metadata": {},
   "source": [
    "The first thing I did was import the packages needed for my script:"
   ]
  },
  {
   "cell_type": "code",
   "execution_count": 1,
   "metadata": {},
   "outputs": [
    {
     "name": "stderr",
     "output_type": "stream",
     "text": [
      "C:\\Users\\dell\\Anaconda3\\lib\\site-packages\\h5py\\__init__.py:36: FutureWarning: Conversion of the second argument of issubdtype from `float` to `np.floating` is deprecated. In future, it will be treated as `np.float64 == np.dtype(float).type`.\n",
      "  from ._conv import register_converters as _register_converters\n",
      "Using TensorFlow backend.\n"
     ]
    }
   ],
   "source": [
    "import keras as kr\n",
    "import tensorflow as tf\n",
    "from keras.models import Sequential\n",
    "from keras.datasets import mnist\n",
    "from keras.models import Sequential, load_model\n",
    "from keras.layers.core import Dense, Dropout, Activation\n",
    "from keras.utils import np_utils\n",
    "from keras.models import load_model\n",
    "import sklearn.preprocessing as pre\n",
    "import sys\n",
    "import gzip\n",
    "import numpy as np\n",
    "import cv2\n",
    "import matplotlib.pyplot as plt\n",
    "import PIL\n",
    "from PIL import Image, ImageDraw, ImageTk\n",
    "import tkinter as tk"
   ]
  },
  {
   "cell_type": "markdown",
   "metadata": {},
   "source": [
    "Next I added a function which builds my neural network or model:"
   ]
  },
  {
   "cell_type": "code",
   "execution_count": 2,
   "metadata": {},
   "outputs": [],
   "source": [
    "def buildModel():\n",
    "\n",
    "    model = kr.models.Sequential()\n",
    "\n",
    "    ## https://machinelearningmastery.com/handwritten-digit-recognition-using-convolutional-neural-networks-python-keras/\n",
    "    ## Used this reference for dropout values as I was unsure why this was used \n",
    "    model.add(Dense(512, input_shape=(784,)))\n",
    "    model.add(Activation('relu'))                            \n",
    "    model.add(Dropout(0.2))\n",
    "\n",
    "    model.add(Dense(512))\n",
    "    model.add(Activation('relu'))\n",
    "    model.add(Dropout(0.2))\n",
    "\n",
    "    model.add(Dense(10))\n",
    "    model.add(Activation('softmax'))\n",
    "    \n",
    "    model.compile(loss='categorical_crossentropy', optimizer='adam', metrics=['accuracy'])\n",
    "    \n",
    "    ## Opens our train images and labels to train our model\n",
    "    with gzip.open('dataset/train-images-idx3-ubyte.gz', 'rb') as f:\n",
    "        train_img = f.read()\n",
    "\n",
    "    with gzip.open('dataset/train-labels-idx1-ubyte.gz', 'rb') as f:\n",
    "        train_lbl = f.read()\n",
    "    \n",
    "    ## Convert both sets of images and labels to arrays of and divide the images by 255 to get the bits between 0-1\n",
    "    train_img =  np.array(list(train_img[16:])).reshape(60000, 28, 28).astype(np.uint8)/ 255.0\n",
    "    train_lbl =  np.array(list(train_lbl[ 8:])).astype(np.uint8)\n",
    "    \n",
    "    ## Convert our labels to binary numbers , e.g 1 = 100000000 , 2 = 010000000\n",
    "    encoder = pre.LabelBinarizer()\n",
    "    encoder.fit(train_lbl)\n",
    "    outputs = encoder.transform(train_lbl)\n",
    "    \n",
    "    ## Reshape our array to fit model input\n",
    "    inputs = train_img.reshape(60000, 784)\n",
    "\n",
    "\n",
    "    ## Train the model with our inputs(Images) and outputs (Labels)\n",
    "    model.fit(inputs, outputs, epochs=5, batch_size=128)\n",
    "    \n",
    "    ## Save our model as Mnist for loading it in later instead of building our model every single time\n",
    "    model.save('Mnist')\n",
    "    \n",
    "    print(str(ModelCreated))"
   ]
  },
  {
   "cell_type": "markdown",
   "metadata": {},
   "source": [
    "Next I had to add a function which makes our image ready for input to our model:"
   ]
  },
  {
   "cell_type": "code",
   "execution_count": 3,
   "metadata": {},
   "outputs": [],
   "source": [
    "def convertImage(imagefile):\n",
    "\n",
    "    ## Really good reference for this : http://www.appstate.edu/~marshallst/GLY3455/lectures/9_Image_Processing.pdf\n",
    "\n",
    "    ## Convert to greyscale\n",
    "    im = Image.open(imagefile).convert('L')\n",
    "\n",
    "    ## Make sure image is resized\n",
    "    im= im.resize((28, 28), Image.BICUBIC)\n",
    "\n",
    "    ## Convert to list\n",
    "    im = list(im.getdata())\n",
    "\n",
    "    # Currently everything is in bytes 0 - 255 , we want to make this 0-1 \n",
    "    im = [(255 - x) * 1.0 / 255.0 for x in im]\n",
    "    \n",
    "    ## need to reshape for our model, expects an array of length 1-D array of size 784\n",
    "    im =  np.array(list(im)).reshape(1,784)\n",
    "\n",
    "    print(\"Image successfully converted! Sending To model\")\n",
    "\n",
    "    ## Send the ready array to our build model function\n",
    "    CompareImage(im)"
   ]
  },
  {
   "cell_type": "markdown",
   "metadata": {},
   "source": [
    "After this I added a function which takes in our ready image which is now an array of size 784, loads our model , gets the labels converted using labelBinarizer() so we can convert back to what the model thinks the number is:"
   ]
  },
  {
   "cell_type": "code",
   "execution_count": 4,
   "metadata": {},
   "outputs": [],
   "source": [
    "def CompareImage(imageFile):\n",
    "    ## Load in our labels once again for converting back to numbers\n",
    "    with gzip.open('dataset/train-labels-idx1-ubyte.gz', 'rb') as f:\n",
    "        train_lbl = f.read()\n",
    "    train_lbl =  np.array(list(train_lbl[ 8:])).astype(np.uint8)\n",
    "\n",
    "    ## Load our model\n",
    "    New_model = load_model('Mnist')\n",
    "    print(\"According to my network your number is: \")\n",
    "    \n",
    "    ## Get numbers as binary format once again\n",
    "    encoder = pre.LabelBinarizer()\n",
    "    encoder.fit(train_lbl)\n",
    "    \n",
    "    ## Give prediction\n",
    "    print(encoder.inverse_transform(New_model.predict(imageFile)))"
   ]
  },
  {
   "cell_type": "markdown",
   "metadata": {},
   "source": [
    "As an extra feature I found a youtube video which used tkinter to create a drawable canvas which also saved the image you drew. I referenced this video in my code."
   ]
  },
  {
   "cell_type": "code",
   "execution_count": 5,
   "metadata": {},
   "outputs": [],
   "source": [
    "## Canvas all taken from https://www.youtube.com/watch?v=OdDCsxfI8S0\n",
    "width = 200\n",
    "height = 200\n",
    "center = height//2\n",
    "white = (255, 255, 255)\n",
    "green = (0,128,0)\n",
    "ModelCreated = False\n",
    "\n",
    "def save():\n",
    "    filename = \"image.png\"\n",
    "    image1.save(filename)\n",
    "\n",
    "def paint(event):\n",
    "    # python_green = \"#476042\"\n",
    "    x1, y1 = (event.x - 1), (event.y - 1)\n",
    "    x2, y2 = (event.x + 1), (event.y + 1)\n",
    "    cv.create_oval(x1, y1, x2, y2, fill=\"black\",width=5)\n",
    "    draw.line([x1, y1, x2, y2],fill=\"black\",width=5)\n",
    "\n",
    "##############################################################################################"
   ]
  },
  {
   "cell_type": "markdown",
   "metadata": {},
   "source": [
    "Then by using a simple while and if else statements I created a simple command line menu for my program. I displayed the menu items in another function."
   ]
  },
  {
   "cell_type": "code",
   "execution_count": 6,
   "metadata": {},
   "outputs": [
    {
     "name": "stdout",
     "output_type": "stream",
     "text": [
      "--------------- Welcome to Keiths Digit Recognition Script ---------------\n",
      "A. Create Model (Must do this first) Model Created: False\n",
      "B. Select your own image\n",
      "C. Draw your digit\n",
      "D. Exit\n",
      "Enter your choice [A-C]: A\n",
      "A\n",
      "Creating Model\n",
      "Epoch 1/5\n",
      "60000/60000 [==============================] - 20s 334us/step - loss: 0.2474 - acc: 0.9253\n",
      "Epoch 2/5\n",
      "60000/60000 [==============================] - 19s 321us/step - loss: 0.0996 - acc: 0.9695\n",
      "Epoch 3/5\n",
      "60000/60000 [==============================] - 19s 324us/step - loss: 0.0711 - acc: 0.9767\n",
      "Epoch 4/5\n",
      "60000/60000 [==============================] - 19s 323us/step - loss: 0.0559 - acc: 0.9819\n",
      "Epoch 5/5\n",
      "60000/60000 [==============================] - 19s 320us/step - loss: 0.0443 - acc: 0.9854\n",
      "False\n",
      "--------------- Welcome to Keiths Digit Recognition Script ---------------\n",
      "A. Create Model (Must do this first) Model Created: True\n",
      "B. Select your own image\n",
      "C. Draw your digit\n",
      "D. Exit\n",
      "Enter your choice [A-C]: B\n",
      "B\n",
      "Please enter file name/path: Four.png\n",
      "Image successfully converted! Sending To model\n",
      "According to my network your number is: \n",
      "[4]\n",
      "--------------- Welcome to Keiths Digit Recognition Script ---------------\n",
      "A. Create Model (Must do this first) Model Created: True\n",
      "B. Select your own image\n",
      "C. Draw your digit\n",
      "D. Exit\n",
      "Enter your choice [A-C]: D\n",
      "D\n",
      "Exit\n"
     ]
    }
   ],
   "source": [
    "def print_menu():       \n",
    "    print(\"-\" * 15 , \"Welcome to Keiths Digit Recognition Script\" , 15 * \"-\")\n",
    "    print(\"A. Create Model (Must do this first) \" + \"Model Created: \" + str(ModelCreated))\n",
    "    print(\"B. Select your own image\")\n",
    "    print(\"C. Draw your digit\")\n",
    "    print(\"D. Exit\")\n",
    "   \n",
    "loop=True      \n",
    "  \n",
    "while loop:          ## While loop which will keep going until loop = False\n",
    "    print_menu()    ## Displays menu\n",
    "    choice = input(\"Enter your choice [A-C]: \")\n",
    "    print(choice)\n",
    "     \n",
    "    if choice == 'A':\n",
    "        print(\"Creating Model\")\n",
    "        buildModel()\n",
    "        ModelCreated = True\n",
    "    elif choice == 'B':     \n",
    "        userInput = input(\"Please enter file name/path: \")\n",
    "        convertImage(userInput)\n",
    "    elif choice=='C':\n",
    "        # Canvas taken from https://www.youtube.com/watch?v=OdDCsxfI8S0\n",
    "        print(\"Creating canvas (X canvas off when finished and select option one and enter 'image.png')\")\n",
    "        root = tk.Tk()\n",
    "\n",
    "        # Tkinter create a canvas to draw on\n",
    "        cv = tk.Canvas(root, width=width, height=height, bg='white')\n",
    "        cv.pack()\n",
    "\n",
    "        # PIL create an empty image and draw object to draw on\n",
    "        # memory only, not visible\n",
    "        image1 = PIL.Image.new(\"RGB\", (width, height), white)\n",
    "        draw = ImageDraw.Draw(image1)\n",
    "\n",
    "        # do the Tkinter canvas drawings (visible)\n",
    "        # cv.create_line([0, center, width, center], fill='green')\n",
    "\n",
    "        cv.pack()\n",
    "        cv.bind(\"<B1-Motion>\", paint)\n",
    "\n",
    "        # do the PIL image/draw (in memory) drawings\n",
    "        # draw.line([0, center, width, center], green)\n",
    "\n",
    "        # PIL image can be saved as .png .jpg .gif or .bmp file (among others)\n",
    "        # filename = \"my_drawing.png\"\n",
    "        # image1.save(filename)\n",
    "        button=tk.Button(text=\"save\",command=save)\n",
    "        button.pack()\n",
    "        root.mainloop()\n",
    "    elif choice=='D':\n",
    "        print(\"Exit\")\n",
    "        \n",
    "        ## You can add your code or functions here\n",
    "        loop=False # This will make the while loop to end as not value of loop is set to False\n",
    "    else:\n",
    "        # Any integer inputs other than values 1-5 we print an error message\n",
    "        print(\"Wrong option selection. Enter any key to try again..\")"
   ]
  },
  {
   "cell_type": "markdown",
   "metadata": {},
   "source": [
    "As we can see, First I have to Select Option A: Create Model , when this is done I change the value of model created in the menu to true as you can see.\n",
    "\n",
    "Next we select Option B: Select our own image, here we can either enter the name of the image as long as it is in the same directory as the script, otherwise we must give the full location path.\n",
    "\n",
    "Option C: Draw your own image does work if you run the actual script from your command line , however it doesnt run on jupyter notebook. When you draw your number and press save it saves the file as \"image.png\" in the same directory of the script. You then just have to select Option B: Select your own image and enter \"image.png\" to test your newly drawn image.\n",
    "\n"
   ]
  },
  {
   "cell_type": "code",
   "execution_count": null,
   "metadata": {},
   "outputs": [],
   "source": []
  }
 ],
 "metadata": {
  "kernelspec": {
   "display_name": "Python 3",
   "language": "python",
   "name": "python3"
  },
  "language_info": {
   "codemirror_mode": {
    "name": "ipython",
    "version": 3
   },
   "file_extension": ".py",
   "mimetype": "text/x-python",
   "name": "python",
   "nbconvert_exporter": "python",
   "pygments_lexer": "ipython3",
   "version": "3.6.5"
  }
 },
 "nbformat": 4,
 "nbformat_minor": 2
}
